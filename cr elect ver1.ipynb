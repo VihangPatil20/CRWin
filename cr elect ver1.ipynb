{
 "cells": [
  {
   "cell_type": "code",
   "execution_count": 1,
   "id": "438d3add-4bbe-42c9-9b8e-cf109359df17",
   "metadata": {},
   "outputs": [
    {
     "name": "stdout",
     "output_type": "stream",
     "text": [
      "Accuracy: 0.8888888888888888\n",
      "Candidate 1 Logistic Regression Prediction: 0 Random Forest Prediction: 0 Merged Prediction: 0\n",
      "Candidate 2 Logistic Regression Prediction: 1 Random Forest Prediction: 1 Merged Prediction: 1\n",
      "Candidate 3 Logistic Regression Prediction: 0 Random Forest Prediction: 0 Merged Prediction: 0\n",
      "Candidate 4 Logistic Regression Prediction: 0 Random Forest Prediction: 0 Merged Prediction: 0\n",
      "Candidate 5 Logistic Regression Prediction: 1 Random Forest Prediction: 1 Merged Prediction: 1\n",
      "Candidate 6 Logistic Regression Prediction: 1 Random Forest Prediction: 1 Merged Prediction: 1\n",
      "Candidate 7 Logistic Regression Prediction: 0 Random Forest Prediction: 1 Merged Prediction: 1\n",
      "Candidate 8 Logistic Regression Prediction: 0 Random Forest Prediction: 0 Merged Prediction: 0\n",
      "Candidate 9 Logistic Regression Prediction: 0 Random Forest Prediction: 0 Merged Prediction: 0\n",
      "Candidate 2 is most likely to win the election with 88.89 % accuracy.\n"
     ]
    },
    {
     "data": {
      "text/plain": [
       "update_time {\n",
       "  seconds: 1679941691\n",
       "  nanos: 890434000\n",
       "}"
      ]
     },
     "execution_count": 1,
     "metadata": {},
     "output_type": "execute_result"
    }
   ],
   "source": [
    "import firebase_admin\n",
    "from firebase_admin import credentials\n",
    "from firebase_admin import firestore\n",
    "\n",
    "# Use a service account.\n",
    "cred = credentials.Certificate('crwin-db-firebase-adminsdk-l9uf7-2e48085648.json')\n",
    "\n",
    "# Initialize a unique Firebase app with a custom name\n",
    "app = firebase_admin.initialize_app(cred, name='myUniqueAppName0988')\n",
    "\n",
    "# Initialize the Firestore client with the same app name\n",
    "db = firestore.client(app=app)\n",
    "\n",
    "import pandas as pd\n",
    "from sklearn.ensemble import RandomForestClassifier\n",
    "from sklearn.linear_model import LogisticRegression\n",
    "from sklearn.model_selection import train_test_split\n",
    "from sklearn.metrics import accuracy_score\n",
    "\n",
    "# Load the dataset\n",
    "data = pd.read_csv('election_data2.csv')\n",
    "\n",
    "# Split the data into training and testing datasets\n",
    "X_train, X_test, y_train, y_test = train_test_split(data.iloc[:, :-1], data.iloc[:, -1], test_size=0.2, random_state=42)\n",
    "\n",
    "# Create a logistic regression model\n",
    "logistic_model = LogisticRegression()\n",
    "\n",
    "# Train the logistic regression model on the training dataset\n",
    "logistic_model.fit(X_train, y_train)\n",
    "\n",
    "# Make predictions using the logistic regression model on the testing dataset\n",
    "logistic_pred = logistic_model.predict(X_test)\n",
    "\n",
    "# Create a random forest model\n",
    "rf_model = RandomForestClassifier(n_estimators=100)\n",
    "\n",
    "# Train the random forest model on the training dataset\n",
    "rf_model.fit(X_train, y_train)\n",
    "\n",
    "# Make predictions using the random forest model on the testing dataset\n",
    "rf_pred = rf_model.predict(X_test)\n",
    "\n",
    "# Merge the results produced by the logistic regression and random forest models\n",
    "merged_pred = []\n",
    "\n",
    "for i in range(len(logistic_pred)):\n",
    "    if logistic_pred[i] == 1:\n",
    "        merged_pred.append(1)\n",
    "    elif rf_pred[i] == 1:\n",
    "        merged_pred.append(1)\n",
    "    else:\n",
    "        merged_pred.append(0)\n",
    "\n",
    "# Calculate the accuracy of the merged model\n",
    "accuracy = accuracy_score(y_test, merged_pred)\n",
    "\n",
    "print('Accuracy:', accuracy)\n",
    "\n",
    "# Print the prediction for each candidate in the testing dataset\n",
    "for i in range(len(X_test)):\n",
    "    print('Candidate', i+1, 'Logistic Regression Prediction:', logistic_pred[i], 'Random Forest Prediction:', rf_pred[i], 'Merged Prediction:', merged_pred[i])\n",
    "\n",
    "# Print the candidate most likely to win the election based on the merged model and the accuracy of the model\n",
    "if merged_pred.count(1) > merged_pred.count(0):\n",
    "    winner = 'Candidate 1'\n",
    "else:\n",
    "    winner = 'Candidate 2'\n",
    "print(winner, 'is most likely to win the election with', round(accuracy*100, 2), '% accuracy.')\n",
    "\n",
    "# Set the winner and accuracy in the Firestore database\n",
    "doc_ref = db.collection(u'AIML').document(u'WINNER')\n",
    "doc_ref.set({\n",
    "    u'winner': winner,\n",
    "    u'accuracy': round(accuracy*100, 2)\n",
    "})\n"
   ]
  },
  {
   "cell_type": "code",
   "execution_count": null,
   "id": "b86bef25-5d68-4482-af33-9e9f067fcf73",
   "metadata": {},
   "outputs": [],
   "source": []
  }
 ],
 "metadata": {
  "kernelspec": {
   "display_name": "Python 3",
   "language": "python",
   "name": "python3"
  },
  "language_info": {
   "codemirror_mode": {
    "name": "ipython",
    "version": 3
   },
   "file_extension": ".py",
   "mimetype": "text/x-python",
   "name": "python",
   "nbconvert_exporter": "python",
   "pygments_lexer": "ipython3",
   "version": "3.10.4"
  }
 },
 "nbformat": 4,
 "nbformat_minor": 5
}
